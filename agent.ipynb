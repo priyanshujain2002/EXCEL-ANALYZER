{
 "cells": [
  {
   "cell_type": "code",
   "execution_count": 22,
   "id": "8ec2038d",
   "metadata": {},
   "outputs": [],
   "source": [
    "from crewai import Agent\n",
    "from crewai_tools import MCPServerAdapter\n",
    "from mcp import StdioServerParameters"
   ]
  },
  {
   "cell_type": "code",
   "execution_count": 23,
   "id": "c62e54d1",
   "metadata": {},
   "outputs": [],
   "source": [
    "import os\n",
    "import json\n",
    "import pytz\n",
    "from crewai import Agent, Task, Crew, Process, LLM"
   ]
  },
  {
   "cell_type": "code",
   "execution_count": 24,
   "id": "99ab7744",
   "metadata": {},
   "outputs": [],
   "source": [
    "server_params=StdioServerParameters(\n",
    "    command=\"python3\",\n",
    "    args=[\"server.py\"],\n",
    "    env={\"UV_PYTHON\": \"3.12\", **os.environ},\n",
    ")\n"
   ]
  },
  {
   "cell_type": "code",
   "execution_count": 25,
   "id": "42594df1",
   "metadata": {},
   "outputs": [],
   "source": [
    "llm = LLM(\n",
    "    model=\"bedrock/us.anthropic.claude-3-7-sonnet-20250219-v1:0\",\n",
    "    aws_region_name=\"us-east-1\",\n",
    "    temperature=0.2,        # Higher for more creative outputs\n",
    ")"
   ]
  },
  {
   "cell_type": "code",
   "execution_count": 26,
   "id": "b179bd53",
   "metadata": {},
   "outputs": [
    {
     "name": "stderr",
     "output_type": "stream",
     "text": [
      "Exception in thread Thread-48 (_run_loop):\n",
      "  + Exception Group Traceback (most recent call last):\n",
      "  |   File \"/usr/lib/python3.12/threading.py\", line 1073, in _bootstrap_inner\n",
      "  |     self.run()\n",
      "  |   File \"/home/test/excel_reader/.venv/lib/python3.12/site-packages/ipykernel/ipkernel.py\", line 772, in run_closure\n",
      "  |     _threading_Thread_run(self)\n",
      "  |   File \"/usr/lib/python3.12/threading.py\", line 1010, in run\n",
      "  |     self._target(*self._args, **self._kwargs)\n",
      "  |   File \"/home/test/excel_reader/.venv/lib/python3.12/site-packages/mcpadapt/core.py\", line 237, in _run_loop\n",
      "  |     self.loop.run_until_complete(self.task)\n",
      "  |   File \"/usr/lib/python3.12/asyncio/base_events.py\", line 687, in run_until_complete\n",
      "  |     return future.result()\n",
      "  |            ^^^^^^^^^^^^^^^\n",
      "  |   File \"/home/test/excel_reader/.venv/lib/python3.12/site-packages/mcpadapt/core.py\", line 226, in setup\n",
      "  |     await stack.enter_async_context(\n",
      "  |   File \"/usr/lib/python3.12/contextlib.py\", line 659, in enter_async_context\n",
      "  |     result = await _enter(cm)\n",
      "  |              ^^^^^^^^^^^^^^^^\n",
      "  |   File \"/usr/lib/python3.12/contextlib.py\", line 210, in __aenter__\n",
      "  |     return await anext(self.gen)\n",
      "  |            ^^^^^^^^^^^^^^^^^^^^^\n",
      "  |   File \"/home/test/excel_reader/.venv/lib/python3.12/site-packages/mcpadapt/core.py\", line 122, in mcptools\n",
      "  |     async with client as (read, write, *_):\n",
      "  |   File \"/usr/lib/python3.12/contextlib.py\", line 231, in __aexit__\n",
      "  |     await self.gen.athrow(value)\n",
      "  |   File \"/home/test/excel_reader/.venv/lib/python3.12/site-packages/mcp/client/stdio/__init__.py\", line 180, in stdio_client\n",
      "  |     async with (\n",
      "  |   File \"/home/test/excel_reader/.venv/lib/python3.12/site-packages/anyio/_backends/_asyncio.py\", line 772, in __aexit__\n",
      "  |     raise BaseExceptionGroup(\n",
      "  | ExceptionGroup: unhandled errors in a TaskGroup (1 sub-exception)\n",
      "  +-+---------------- 1 ----------------\n",
      "    | Exception Group Traceback (most recent call last):\n",
      "    |   File \"/home/test/excel_reader/.venv/lib/python3.12/site-packages/mcp/client/stdio/__init__.py\", line 187, in stdio_client\n",
      "    |     yield read_stream, write_stream\n",
      "    |   File \"/home/test/excel_reader/.venv/lib/python3.12/site-packages/mcpadapt/core.py\", line 123, in mcptools\n",
      "    |     async with ClientSession(\n",
      "    |   File \"/home/test/excel_reader/.venv/lib/python3.12/site-packages/mcp/shared/session.py\", line 218, in __aexit__\n",
      "    |     return await self._task_group.__aexit__(exc_type, exc_val, exc_tb)\n",
      "    |            ^^^^^^^^^^^^^^^^^^^^^^^^^^^^^^^^^^^^^^^^^^^^^^^^^^^^^^^^^^^\n",
      "    |   File \"/home/test/excel_reader/.venv/lib/python3.12/site-packages/anyio/_backends/_asyncio.py\", line 772, in __aexit__\n",
      "    |     raise BaseExceptionGroup(\n",
      "    | ExceptionGroup: unhandled errors in a TaskGroup (1 sub-exception)\n",
      "    +-+---------------- 1 ----------------\n",
      "      | Traceback (most recent call last):\n",
      "      |   File \"/home/test/excel_reader/.venv/lib/python3.12/site-packages/mcpadapt/core.py\", line 129, in mcptools\n",
      "      |     await session.initialize()\n",
      "      |   File \"/home/test/excel_reader/.venv/lib/python3.12/site-packages/mcp/client/session.py\", line 151, in initialize\n",
      "      |     result = await self.send_request(\n",
      "      |              ^^^^^^^^^^^^^^^^^^^^^^^^\n",
      "      |   File \"/home/test/excel_reader/.venv/lib/python3.12/site-packages/mcp/shared/session.py\", line 286, in send_request\n",
      "      |     raise McpError(response_or_error.error)\n",
      "      | mcp.shared.exceptions.McpError: Connection closed\n",
      "      +------------------------------------\n"
     ]
    },
    {
     "ename": "RuntimeError",
     "evalue": "Failed to initialize MCP Adapter: Couldn't connect to the MCP server after 30 seconds",
     "output_type": "error",
     "traceback": [
      "\u001b[31m---------------------------------------------------------------------------\u001b[39m",
      "\u001b[31mTimeoutError\u001b[39m                              Traceback (most recent call last)",
      "\u001b[36mFile \u001b[39m\u001b[32m~/excel_reader/.venv/lib/python3.12/site-packages/crewai_tools/adapters/mcp_adapter.py:116\u001b[39m, in \u001b[36mMCPServerAdapter.__init__\u001b[39m\u001b[34m(self, serverparams, connect_timeout, *tool_names)\u001b[39m\n\u001b[32m    115\u001b[39m     \u001b[38;5;28mself\u001b[39m._adapter = MCPAdapt(\u001b[38;5;28mself\u001b[39m._serverparams, CrewAIAdapter(), connect_timeout)\n\u001b[32m--> \u001b[39m\u001b[32m116\u001b[39m     \u001b[38;5;28;43mself\u001b[39;49m\u001b[43m.\u001b[49m\u001b[43mstart\u001b[49m\u001b[43m(\u001b[49m\u001b[43m)\u001b[49m\n\u001b[32m    118\u001b[39m \u001b[38;5;28;01mexcept\u001b[39;00m \u001b[38;5;167;01mException\u001b[39;00m \u001b[38;5;28;01mas\u001b[39;00m e:\n",
      "\u001b[36mFile \u001b[39m\u001b[32m~/excel_reader/.venv/lib/python3.12/site-packages/crewai_tools/adapters/mcp_adapter.py:128\u001b[39m, in \u001b[36mMCPServerAdapter.start\u001b[39m\u001b[34m(self)\u001b[39m\n\u001b[32m    127\u001b[39m \u001b[38;5;250m\u001b[39m\u001b[33;03m\"\"\"Start the MCP server and initialize the tools.\"\"\"\u001b[39;00m\n\u001b[32m--> \u001b[39m\u001b[32m128\u001b[39m \u001b[38;5;28mself\u001b[39m._tools = \u001b[38;5;28;43mself\u001b[39;49m\u001b[43m.\u001b[49m\u001b[43m_adapter\u001b[49m\u001b[43m.\u001b[49m\u001b[34;43m__enter__\u001b[39;49m\u001b[43m(\u001b[49m\u001b[43m)\u001b[49m\n",
      "\u001b[36mFile \u001b[39m\u001b[32m~/excel_reader/.venv/lib/python3.12/site-packages/mcpadapt/core.py:303\u001b[39m, in \u001b[36mMCPAdapt.__enter__\u001b[39m\u001b[34m(self)\u001b[39m\n\u001b[32m    302\u001b[39m \u001b[38;5;28;01mdef\u001b[39;00m\u001b[38;5;250m \u001b[39m\u001b[34m__enter__\u001b[39m(\u001b[38;5;28mself\u001b[39m):\n\u001b[32m--> \u001b[39m\u001b[32m303\u001b[39m     \u001b[38;5;28;43mself\u001b[39;49m\u001b[43m.\u001b[49m\u001b[43mstart\u001b[49m\u001b[43m(\u001b[49m\u001b[43m)\u001b[49m\n\u001b[32m    304\u001b[39m     \u001b[38;5;28;01mreturn\u001b[39;00m \u001b[38;5;28mself\u001b[39m.tools()\n",
      "\u001b[36mFile \u001b[39m\u001b[32m~/excel_reader/.venv/lib/python3.12/site-packages/mcpadapt/core.py:291\u001b[39m, in \u001b[36mMCPAdapt.start\u001b[39m\u001b[34m(self)\u001b[39m\n\u001b[32m    290\u001b[39m \u001b[38;5;28;01mif\u001b[39;00m \u001b[38;5;129;01mnot\u001b[39;00m \u001b[38;5;28mself\u001b[39m.ready.wait(timeout=\u001b[38;5;28mself\u001b[39m.connect_timeout):\n\u001b[32m--> \u001b[39m\u001b[32m291\u001b[39m     \u001b[38;5;28;01mraise\u001b[39;00m \u001b[38;5;167;01mTimeoutError\u001b[39;00m(\n\u001b[32m    292\u001b[39m         \u001b[33mf\u001b[39m\u001b[33m\"\u001b[39m\u001b[33mCouldn\u001b[39m\u001b[33m'\u001b[39m\u001b[33mt connect to the MCP server after \u001b[39m\u001b[38;5;132;01m{\u001b[39;00m\u001b[38;5;28mself\u001b[39m.connect_timeout\u001b[38;5;132;01m}\u001b[39;00m\u001b[33m seconds\u001b[39m\u001b[33m\"\u001b[39m\n\u001b[32m    293\u001b[39m     )\n",
      "\u001b[31mTimeoutError\u001b[39m: Couldn't connect to the MCP server after 30 seconds",
      "\nThe above exception was the direct cause of the following exception:\n",
      "\u001b[31mRuntimeError\u001b[39m                              Traceback (most recent call last)",
      "\u001b[36mCell\u001b[39m\u001b[36m \u001b[39m\u001b[32mIn[26]\u001b[39m\u001b[32m, line 1\u001b[39m\n\u001b[32m----> \u001b[39m\u001b[32m1\u001b[39m \u001b[38;5;28;01mwith\u001b[39;00m \u001b[43mMCPServerAdapter\u001b[49m\u001b[43m(\u001b[49m\u001b[43mserver_params\u001b[49m\u001b[43m)\u001b[49m \u001b[38;5;28;01mas\u001b[39;00m mcp_tools:\n\u001b[32m      2\u001b[39m     \u001b[38;5;28mprint\u001b[39m(\u001b[33mf\u001b[39m\u001b[33m\"\u001b[39m\u001b[33mAvailable tools: \u001b[39m\u001b[38;5;132;01m{\u001b[39;00m[tool.name\u001b[38;5;250m \u001b[39m\u001b[38;5;28;01mfor\u001b[39;00m\u001b[38;5;250m \u001b[39mtool\u001b[38;5;250m \u001b[39m\u001b[38;5;129;01min\u001b[39;00m\u001b[38;5;250m \u001b[39mmcp_tools]\u001b[38;5;132;01m}\u001b[39;00m\u001b[33m\"\u001b[39m)\n",
      "\u001b[36mFile \u001b[39m\u001b[32m~/excel_reader/.venv/lib/python3.12/site-packages/crewai_tools/adapters/mcp_adapter.py:124\u001b[39m, in \u001b[36mMCPServerAdapter.__init__\u001b[39m\u001b[34m(self, serverparams, connect_timeout, *tool_names)\u001b[39m\n\u001b[32m    122\u001b[39m     \u001b[38;5;28;01mexcept\u001b[39;00m \u001b[38;5;167;01mException\u001b[39;00m \u001b[38;5;28;01mas\u001b[39;00m stop_e:\n\u001b[32m    123\u001b[39m         logger.error(\u001b[33mf\u001b[39m\u001b[33m\"\u001b[39m\u001b[33mError during stop cleanup: \u001b[39m\u001b[38;5;132;01m{\u001b[39;00mstop_e\u001b[38;5;132;01m}\u001b[39;00m\u001b[33m\"\u001b[39m)\n\u001b[32m--> \u001b[39m\u001b[32m124\u001b[39m \u001b[38;5;28;01mraise\u001b[39;00m \u001b[38;5;167;01mRuntimeError\u001b[39;00m(\u001b[33mf\u001b[39m\u001b[33m\"\u001b[39m\u001b[33mFailed to initialize MCP Adapter: \u001b[39m\u001b[38;5;132;01m{\u001b[39;00me\u001b[38;5;132;01m}\u001b[39;00m\u001b[33m\"\u001b[39m) \u001b[38;5;28;01mfrom\u001b[39;00m\u001b[38;5;250m \u001b[39m\u001b[34;01me\u001b[39;00m\n",
      "\u001b[31mRuntimeError\u001b[39m: Failed to initialize MCP Adapter: Couldn't connect to the MCP server after 30 seconds"
     ]
    }
   ],
   "source": [
    "with MCPServerAdapter(server_params) as mcp_tools:\n",
    "    print(f\"Available tools: {[tool.name for tool in mcp_tools]}\")\n"
   ]
  },
  {
   "cell_type": "code",
   "execution_count": null,
   "id": "8da46989",
   "metadata": {},
   "outputs": [
    {
     "ename": "SyntaxError",
     "evalue": "incomplete input (503878995.py, line 11)",
     "output_type": "error",
     "traceback": [
      "  \u001b[36mCell\u001b[39m\u001b[36m \u001b[39m\u001b[32mIn[21]\u001b[39m\u001b[32m, line 11\u001b[39m\n\u001b[31m    \u001b[39m\u001b[31mllm = llm\u001b[39m\n             ^\n\u001b[31mSyntaxError\u001b[39m\u001b[31m:\u001b[39m incomplete input\n"
     ]
    }
   ],
   "source": [
    "excel_analyze = Agent(\n",
    "        role='Excel Data Processor',\n",
    "        goal='Extract clean tabular data from Excel files by filtering out garbage, headers, and formatting',\n",
    "        backstory=\"\"\"You are an expert data processor specializing in cleaning Excel files. \n",
    "        You can identify and extract only the meaningful tabular data from messy Excel files \n",
    "        that contain extra headings, formatting, and other unwanted elements. Your job is to \n",
    "        produce clean, structured data that can be easily used for analysis.\"\"\",\n",
    "        tools= mcp_tools,\n",
    "        verbose=True,\n",
    "        allow_delegation=False,\n",
    "        llm = llm\n",
    "    )"
   ]
  },
  {
   "cell_type": "code",
   "execution_count": null,
   "id": "ac2fcbca",
   "metadata": {},
   "outputs": [],
   "source": [
    "excel_analyzer = Task(\n",
    "        description=f\"\"\"\n",
    "        Process the Excel file located at '{input_file}' and extract only the clean tabular data.\n",
    "        \n",
    "        Your task is to:\n",
    "        1. Connect to the MCP server to read the Excel file\n",
    "        2. Identify and extract only the meaningful tabular data\n",
    "        3. Filter out any garbage data such as:\n",
    "           - Extra headers and titles\n",
    "           - Formatting rows\n",
    "           - Empty rows and columns\n",
    "           - Merged cells content that's not part of the data table\n",
    "           - Summary rows or totals that are not part of the main data\n",
    "        4. Save the cleaned data to '{output_file}'\n",
    "        \n",
    "        Use the mcp_excel_processor tool to accomplish this task.\n",
    "        \"\"\",\n",
    "        expected_output=f\"A clean Excel file saved at '{output_file}' containing only the structured tabular data without any formatting or garbage content.\",\n",
    "        agent= excel_analyze\n",
    "    )"
   ]
  },
  {
   "cell_type": "code",
   "execution_count": null,
   "id": "61984bdd",
   "metadata": {},
   "outputs": [],
   "source": [
    "crew = Crew(\n",
    "    agents=[excel_analyze],\n",
    "    tasks=[excel_analyzer],\n",
    "    verbose=2\n",
    ")"
   ]
  }
 ],
 "metadata": {
  "kernelspec": {
   "display_name": ".venv",
   "language": "python",
   "name": "python3"
  },
  "language_info": {
   "codemirror_mode": {
    "name": "ipython",
    "version": 3
   },
   "file_extension": ".py",
   "mimetype": "text/x-python",
   "name": "python",
   "nbconvert_exporter": "python",
   "pygments_lexer": "ipython3",
   "version": "3.12.3"
  }
 },
 "nbformat": 4,
 "nbformat_minor": 5
}
